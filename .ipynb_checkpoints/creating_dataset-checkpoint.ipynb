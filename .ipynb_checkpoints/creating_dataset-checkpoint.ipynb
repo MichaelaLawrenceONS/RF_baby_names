{
 "cells": [
  {
   "cell_type": "code",
   "execution_count": 1,
   "metadata": {},
   "outputs": [],
   "source": [
    "import numpy as np \n",
    "import pandas as pd "
   ]
  },
  {
   "cell_type": "code",
   "execution_count": 2,
   "metadata": {},
   "outputs": [],
   "source": [
    "df = pd.read_csv('NationalNames.csv')"
   ]
  },
  {
   "cell_type": "code",
   "execution_count": 3,
   "metadata": {},
   "outputs": [
    {
     "data": {
      "text/html": [
       "<div>\n",
       "<style scoped>\n",
       "    .dataframe tbody tr th:only-of-type {\n",
       "        vertical-align: middle;\n",
       "    }\n",
       "\n",
       "    .dataframe tbody tr th {\n",
       "        vertical-align: top;\n",
       "    }\n",
       "\n",
       "    .dataframe thead th {\n",
       "        text-align: right;\n",
       "    }\n",
       "</style>\n",
       "<table border=\"1\" class=\"dataframe\">\n",
       "  <thead>\n",
       "    <tr style=\"text-align: right;\">\n",
       "      <th></th>\n",
       "      <th>Id</th>\n",
       "      <th>Name</th>\n",
       "      <th>Year</th>\n",
       "      <th>Gender</th>\n",
       "      <th>Count</th>\n",
       "    </tr>\n",
       "  </thead>\n",
       "  <tbody>\n",
       "    <tr>\n",
       "      <td>0</td>\n",
       "      <td>1</td>\n",
       "      <td>Mary</td>\n",
       "      <td>1880</td>\n",
       "      <td>F</td>\n",
       "      <td>7065</td>\n",
       "    </tr>\n",
       "    <tr>\n",
       "      <td>1</td>\n",
       "      <td>2</td>\n",
       "      <td>Anna</td>\n",
       "      <td>1880</td>\n",
       "      <td>F</td>\n",
       "      <td>2604</td>\n",
       "    </tr>\n",
       "    <tr>\n",
       "      <td>2</td>\n",
       "      <td>3</td>\n",
       "      <td>Emma</td>\n",
       "      <td>1880</td>\n",
       "      <td>F</td>\n",
       "      <td>2003</td>\n",
       "    </tr>\n",
       "    <tr>\n",
       "      <td>3</td>\n",
       "      <td>4</td>\n",
       "      <td>Elizabeth</td>\n",
       "      <td>1880</td>\n",
       "      <td>F</td>\n",
       "      <td>1939</td>\n",
       "    </tr>\n",
       "    <tr>\n",
       "      <td>4</td>\n",
       "      <td>5</td>\n",
       "      <td>Minnie</td>\n",
       "      <td>1880</td>\n",
       "      <td>F</td>\n",
       "      <td>1746</td>\n",
       "    </tr>\n",
       "  </tbody>\n",
       "</table>\n",
       "</div>"
      ],
      "text/plain": [
       "   Id       Name  Year Gender  Count\n",
       "0   1       Mary  1880      F   7065\n",
       "1   2       Anna  1880      F   2604\n",
       "2   3       Emma  1880      F   2003\n",
       "3   4  Elizabeth  1880      F   1939\n",
       "4   5     Minnie  1880      F   1746"
      ]
     },
     "execution_count": 3,
     "metadata": {},
     "output_type": "execute_result"
    }
   ],
   "source": [
    "df.head()"
   ]
  },
  {
   "cell_type": "code",
   "execution_count": 4,
   "metadata": {},
   "outputs": [
    {
     "data": {
      "text/html": [
       "<div>\n",
       "<style scoped>\n",
       "    .dataframe tbody tr th:only-of-type {\n",
       "        vertical-align: middle;\n",
       "    }\n",
       "\n",
       "    .dataframe tbody tr th {\n",
       "        vertical-align: top;\n",
       "    }\n",
       "\n",
       "    .dataframe thead th {\n",
       "        text-align: right;\n",
       "    }\n",
       "</style>\n",
       "<table border=\"1\" class=\"dataframe\">\n",
       "  <thead>\n",
       "    <tr style=\"text-align: right;\">\n",
       "      <th></th>\n",
       "      <th>Id</th>\n",
       "      <th>Name</th>\n",
       "      <th>Year</th>\n",
       "      <th>Gender</th>\n",
       "      <th>Count</th>\n",
       "    </tr>\n",
       "  </thead>\n",
       "  <tbody>\n",
       "    <tr>\n",
       "      <td>count</td>\n",
       "      <td>1.825433e+06</td>\n",
       "      <td>1825433</td>\n",
       "      <td>1.825433e+06</td>\n",
       "      <td>1825433</td>\n",
       "      <td>1.825433e+06</td>\n",
       "    </tr>\n",
       "    <tr>\n",
       "      <td>unique</td>\n",
       "      <td>NaN</td>\n",
       "      <td>93889</td>\n",
       "      <td>NaN</td>\n",
       "      <td>2</td>\n",
       "      <td>NaN</td>\n",
       "    </tr>\n",
       "    <tr>\n",
       "      <td>top</td>\n",
       "      <td>NaN</td>\n",
       "      <td>John</td>\n",
       "      <td>NaN</td>\n",
       "      <td>F</td>\n",
       "      <td>NaN</td>\n",
       "    </tr>\n",
       "    <tr>\n",
       "      <td>freq</td>\n",
       "      <td>NaN</td>\n",
       "      <td>270</td>\n",
       "      <td>NaN</td>\n",
       "      <td>1081683</td>\n",
       "      <td>NaN</td>\n",
       "    </tr>\n",
       "    <tr>\n",
       "      <td>mean</td>\n",
       "      <td>9.127170e+05</td>\n",
       "      <td>NaN</td>\n",
       "      <td>1.972620e+03</td>\n",
       "      <td>NaN</td>\n",
       "      <td>1.846879e+02</td>\n",
       "    </tr>\n",
       "    <tr>\n",
       "      <td>std</td>\n",
       "      <td>5.269573e+05</td>\n",
       "      <td>NaN</td>\n",
       "      <td>3.352891e+01</td>\n",
       "      <td>NaN</td>\n",
       "      <td>1.566711e+03</td>\n",
       "    </tr>\n",
       "    <tr>\n",
       "      <td>min</td>\n",
       "      <td>1.000000e+00</td>\n",
       "      <td>NaN</td>\n",
       "      <td>1.880000e+03</td>\n",
       "      <td>NaN</td>\n",
       "      <td>5.000000e+00</td>\n",
       "    </tr>\n",
       "    <tr>\n",
       "      <td>25%</td>\n",
       "      <td>4.563590e+05</td>\n",
       "      <td>NaN</td>\n",
       "      <td>1.949000e+03</td>\n",
       "      <td>NaN</td>\n",
       "      <td>7.000000e+00</td>\n",
       "    </tr>\n",
       "    <tr>\n",
       "      <td>50%</td>\n",
       "      <td>9.127170e+05</td>\n",
       "      <td>NaN</td>\n",
       "      <td>1.982000e+03</td>\n",
       "      <td>NaN</td>\n",
       "      <td>1.200000e+01</td>\n",
       "    </tr>\n",
       "    <tr>\n",
       "      <td>75%</td>\n",
       "      <td>1.369075e+06</td>\n",
       "      <td>NaN</td>\n",
       "      <td>2.001000e+03</td>\n",
       "      <td>NaN</td>\n",
       "      <td>3.200000e+01</td>\n",
       "    </tr>\n",
       "    <tr>\n",
       "      <td>max</td>\n",
       "      <td>1.825433e+06</td>\n",
       "      <td>NaN</td>\n",
       "      <td>2.014000e+03</td>\n",
       "      <td>NaN</td>\n",
       "      <td>9.968000e+04</td>\n",
       "    </tr>\n",
       "  </tbody>\n",
       "</table>\n",
       "</div>"
      ],
      "text/plain": [
       "                  Id     Name          Year   Gender         Count\n",
       "count   1.825433e+06  1825433  1.825433e+06  1825433  1.825433e+06\n",
       "unique           NaN    93889           NaN        2           NaN\n",
       "top              NaN     John           NaN        F           NaN\n",
       "freq             NaN      270           NaN  1081683           NaN\n",
       "mean    9.127170e+05      NaN  1.972620e+03      NaN  1.846879e+02\n",
       "std     5.269573e+05      NaN  3.352891e+01      NaN  1.566711e+03\n",
       "min     1.000000e+00      NaN  1.880000e+03      NaN  5.000000e+00\n",
       "25%     4.563590e+05      NaN  1.949000e+03      NaN  7.000000e+00\n",
       "50%     9.127170e+05      NaN  1.982000e+03      NaN  1.200000e+01\n",
       "75%     1.369075e+06      NaN  2.001000e+03      NaN  3.200000e+01\n",
       "max     1.825433e+06      NaN  2.014000e+03      NaN  9.968000e+04"
      ]
     },
     "execution_count": 4,
     "metadata": {},
     "output_type": "execute_result"
    }
   ],
   "source": [
    "df.describe(include = 'all')"
   ]
  },
  {
   "cell_type": "code",
   "execution_count": 5,
   "metadata": {},
   "outputs": [
    {
     "data": {
      "text/plain": [
       "Id         int64\n",
       "Name      object\n",
       "Year       int64\n",
       "Gender    object\n",
       "Count      int64\n",
       "dtype: object"
      ]
     },
     "execution_count": 5,
     "metadata": {},
     "output_type": "execute_result"
    }
   ],
   "source": [
    "df.dtypes"
   ]
  },
  {
   "cell_type": "code",
   "execution_count": 6,
   "metadata": {},
   "outputs": [
    {
     "data": {
      "text/plain": [
       "2008    35045\n",
       "2007    34931\n",
       "2009    34684\n",
       "2006    34069\n",
       "2010    34041\n",
       "        ...  \n",
       "1885     2294\n",
       "1882     2127\n",
       "1883     2084\n",
       "1880     2000\n",
       "1881     1935\n",
       "Name: Year, Length: 135, dtype: int64"
      ]
     },
     "execution_count": 6,
     "metadata": {},
     "output_type": "execute_result"
    }
   ],
   "source": [
    "df.Year.value_counts()"
   ]
  },
  {
   "cell_type": "code",
   "execution_count": 7,
   "metadata": {},
   "outputs": [],
   "source": [
    "df = df[df['Year'] == 2008]"
   ]
  },
  {
   "cell_type": "code",
   "execution_count": 8,
   "metadata": {},
   "outputs": [
    {
     "data": {
      "text/html": [
       "<div>\n",
       "<style scoped>\n",
       "    .dataframe tbody tr th:only-of-type {\n",
       "        vertical-align: middle;\n",
       "    }\n",
       "\n",
       "    .dataframe tbody tr th {\n",
       "        vertical-align: top;\n",
       "    }\n",
       "\n",
       "    .dataframe thead th {\n",
       "        text-align: right;\n",
       "    }\n",
       "</style>\n",
       "<table border=\"1\" class=\"dataframe\">\n",
       "  <thead>\n",
       "    <tr style=\"text-align: right;\">\n",
       "      <th></th>\n",
       "      <th>Id</th>\n",
       "      <th>Name</th>\n",
       "      <th>Year</th>\n",
       "      <th>Gender</th>\n",
       "      <th>Count</th>\n",
       "    </tr>\n",
       "  </thead>\n",
       "  <tbody>\n",
       "    <tr>\n",
       "      <td>1587863</td>\n",
       "      <td>1587864</td>\n",
       "      <td>Emma</td>\n",
       "      <td>2008</td>\n",
       "      <td>F</td>\n",
       "      <td>18799</td>\n",
       "    </tr>\n",
       "    <tr>\n",
       "      <td>1587864</td>\n",
       "      <td>1587865</td>\n",
       "      <td>Isabella</td>\n",
       "      <td>2008</td>\n",
       "      <td>F</td>\n",
       "      <td>18603</td>\n",
       "    </tr>\n",
       "    <tr>\n",
       "      <td>1587865</td>\n",
       "      <td>1587866</td>\n",
       "      <td>Emily</td>\n",
       "      <td>2008</td>\n",
       "      <td>F</td>\n",
       "      <td>17421</td>\n",
       "    </tr>\n",
       "    <tr>\n",
       "      <td>1587866</td>\n",
       "      <td>1587867</td>\n",
       "      <td>Olivia</td>\n",
       "      <td>2008</td>\n",
       "      <td>F</td>\n",
       "      <td>17069</td>\n",
       "    </tr>\n",
       "    <tr>\n",
       "      <td>1587867</td>\n",
       "      <td>1587868</td>\n",
       "      <td>Ava</td>\n",
       "      <td>2008</td>\n",
       "      <td>F</td>\n",
       "      <td>17027</td>\n",
       "    </tr>\n",
       "  </tbody>\n",
       "</table>\n",
       "</div>"
      ],
      "text/plain": [
       "              Id      Name  Year Gender  Count\n",
       "1587863  1587864      Emma  2008      F  18799\n",
       "1587864  1587865  Isabella  2008      F  18603\n",
       "1587865  1587866     Emily  2008      F  17421\n",
       "1587866  1587867    Olivia  2008      F  17069\n",
       "1587867  1587868       Ava  2008      F  17027"
      ]
     },
     "execution_count": 8,
     "metadata": {},
     "output_type": "execute_result"
    }
   ],
   "source": [
    "df.head()"
   ]
  },
  {
   "cell_type": "code",
   "execution_count": 9,
   "metadata": {},
   "outputs": [],
   "source": [
    "df = df.drop(['Id', 'Year'],axis = 1)"
   ]
  },
  {
   "cell_type": "code",
   "execution_count": 10,
   "metadata": {},
   "outputs": [
    {
     "data": {
      "text/html": [
       "<div>\n",
       "<style scoped>\n",
       "    .dataframe tbody tr th:only-of-type {\n",
       "        vertical-align: middle;\n",
       "    }\n",
       "\n",
       "    .dataframe tbody tr th {\n",
       "        vertical-align: top;\n",
       "    }\n",
       "\n",
       "    .dataframe thead th {\n",
       "        text-align: right;\n",
       "    }\n",
       "</style>\n",
       "<table border=\"1\" class=\"dataframe\">\n",
       "  <thead>\n",
       "    <tr style=\"text-align: right;\">\n",
       "      <th></th>\n",
       "      <th>Name</th>\n",
       "      <th>Gender</th>\n",
       "      <th>Count</th>\n",
       "    </tr>\n",
       "  </thead>\n",
       "  <tbody>\n",
       "    <tr>\n",
       "      <td>1587863</td>\n",
       "      <td>Emma</td>\n",
       "      <td>F</td>\n",
       "      <td>18799</td>\n",
       "    </tr>\n",
       "    <tr>\n",
       "      <td>1587864</td>\n",
       "      <td>Isabella</td>\n",
       "      <td>F</td>\n",
       "      <td>18603</td>\n",
       "    </tr>\n",
       "    <tr>\n",
       "      <td>1587865</td>\n",
       "      <td>Emily</td>\n",
       "      <td>F</td>\n",
       "      <td>17421</td>\n",
       "    </tr>\n",
       "    <tr>\n",
       "      <td>1587866</td>\n",
       "      <td>Olivia</td>\n",
       "      <td>F</td>\n",
       "      <td>17069</td>\n",
       "    </tr>\n",
       "    <tr>\n",
       "      <td>1587867</td>\n",
       "      <td>Ava</td>\n",
       "      <td>F</td>\n",
       "      <td>17027</td>\n",
       "    </tr>\n",
       "  </tbody>\n",
       "</table>\n",
       "</div>"
      ],
      "text/plain": [
       "             Name Gender  Count\n",
       "1587863      Emma      F  18799\n",
       "1587864  Isabella      F  18603\n",
       "1587865     Emily      F  17421\n",
       "1587866    Olivia      F  17069\n",
       "1587867       Ava      F  17027"
      ]
     },
     "execution_count": 10,
     "metadata": {},
     "output_type": "execute_result"
    }
   ],
   "source": [
    "df.head()"
   ]
  },
  {
   "cell_type": "code",
   "execution_count": 11,
   "metadata": {},
   "outputs": [],
   "source": [
    "df = df.reset_index(drop = True)"
   ]
  },
  {
   "cell_type": "code",
   "execution_count": 12,
   "metadata": {},
   "outputs": [
    {
     "data": {
      "text/html": [
       "<div>\n",
       "<style scoped>\n",
       "    .dataframe tbody tr th:only-of-type {\n",
       "        vertical-align: middle;\n",
       "    }\n",
       "\n",
       "    .dataframe tbody tr th {\n",
       "        vertical-align: top;\n",
       "    }\n",
       "\n",
       "    .dataframe thead th {\n",
       "        text-align: right;\n",
       "    }\n",
       "</style>\n",
       "<table border=\"1\" class=\"dataframe\">\n",
       "  <thead>\n",
       "    <tr style=\"text-align: right;\">\n",
       "      <th></th>\n",
       "      <th>Name</th>\n",
       "      <th>Gender</th>\n",
       "      <th>Count</th>\n",
       "    </tr>\n",
       "  </thead>\n",
       "  <tbody>\n",
       "    <tr>\n",
       "      <td>0</td>\n",
       "      <td>Emma</td>\n",
       "      <td>F</td>\n",
       "      <td>18799</td>\n",
       "    </tr>\n",
       "    <tr>\n",
       "      <td>1</td>\n",
       "      <td>Isabella</td>\n",
       "      <td>F</td>\n",
       "      <td>18603</td>\n",
       "    </tr>\n",
       "    <tr>\n",
       "      <td>2</td>\n",
       "      <td>Emily</td>\n",
       "      <td>F</td>\n",
       "      <td>17421</td>\n",
       "    </tr>\n",
       "    <tr>\n",
       "      <td>3</td>\n",
       "      <td>Olivia</td>\n",
       "      <td>F</td>\n",
       "      <td>17069</td>\n",
       "    </tr>\n",
       "    <tr>\n",
       "      <td>4</td>\n",
       "      <td>Ava</td>\n",
       "      <td>F</td>\n",
       "      <td>17027</td>\n",
       "    </tr>\n",
       "  </tbody>\n",
       "</table>\n",
       "</div>"
      ],
      "text/plain": [
       "       Name Gender  Count\n",
       "0      Emma      F  18799\n",
       "1  Isabella      F  18603\n",
       "2     Emily      F  17421\n",
       "3    Olivia      F  17069\n",
       "4       Ava      F  17027"
      ]
     },
     "execution_count": 12,
     "metadata": {},
     "output_type": "execute_result"
    }
   ],
   "source": [
    "df.head()"
   ]
  },
  {
   "cell_type": "code",
   "execution_count": 13,
   "metadata": {},
   "outputs": [
    {
     "data": {
      "text/html": [
       "<div>\n",
       "<style scoped>\n",
       "    .dataframe tbody tr th:only-of-type {\n",
       "        vertical-align: middle;\n",
       "    }\n",
       "\n",
       "    .dataframe tbody tr th {\n",
       "        vertical-align: top;\n",
       "    }\n",
       "\n",
       "    .dataframe thead th {\n",
       "        text-align: right;\n",
       "    }\n",
       "</style>\n",
       "<table border=\"1\" class=\"dataframe\">\n",
       "  <thead>\n",
       "    <tr style=\"text-align: right;\">\n",
       "      <th></th>\n",
       "      <th>Name</th>\n",
       "      <th>Gender</th>\n",
       "      <th>Count</th>\n",
       "    </tr>\n",
       "  </thead>\n",
       "  <tbody>\n",
       "    <tr>\n",
       "      <td>count</td>\n",
       "      <td>35045</td>\n",
       "      <td>35045</td>\n",
       "      <td>35045.000000</td>\n",
       "    </tr>\n",
       "    <tr>\n",
       "      <td>unique</td>\n",
       "      <td>32488</td>\n",
       "      <td>2</td>\n",
       "      <td>NaN</td>\n",
       "    </tr>\n",
       "    <tr>\n",
       "      <td>top</td>\n",
       "      <td>Neko</td>\n",
       "      <td>F</td>\n",
       "      <td>NaN</td>\n",
       "    </tr>\n",
       "    <tr>\n",
       "      <td>freq</td>\n",
       "      <td>2</td>\n",
       "      <td>20439</td>\n",
       "      <td>NaN</td>\n",
       "    </tr>\n",
       "    <tr>\n",
       "      <td>mean</td>\n",
       "      <td>NaN</td>\n",
       "      <td>NaN</td>\n",
       "      <td>111.956713</td>\n",
       "    </tr>\n",
       "    <tr>\n",
       "      <td>std</td>\n",
       "      <td>NaN</td>\n",
       "      <td>NaN</td>\n",
       "      <td>743.263871</td>\n",
       "    </tr>\n",
       "    <tr>\n",
       "      <td>min</td>\n",
       "      <td>NaN</td>\n",
       "      <td>NaN</td>\n",
       "      <td>5.000000</td>\n",
       "    </tr>\n",
       "    <tr>\n",
       "      <td>25%</td>\n",
       "      <td>NaN</td>\n",
       "      <td>NaN</td>\n",
       "      <td>7.000000</td>\n",
       "    </tr>\n",
       "    <tr>\n",
       "      <td>50%</td>\n",
       "      <td>NaN</td>\n",
       "      <td>NaN</td>\n",
       "      <td>11.000000</td>\n",
       "    </tr>\n",
       "    <tr>\n",
       "      <td>75%</td>\n",
       "      <td>NaN</td>\n",
       "      <td>NaN</td>\n",
       "      <td>29.000000</td>\n",
       "    </tr>\n",
       "    <tr>\n",
       "      <td>max</td>\n",
       "      <td>NaN</td>\n",
       "      <td>NaN</td>\n",
       "      <td>22568.000000</td>\n",
       "    </tr>\n",
       "  </tbody>\n",
       "</table>\n",
       "</div>"
      ],
      "text/plain": [
       "         Name Gender         Count\n",
       "count   35045  35045  35045.000000\n",
       "unique  32488      2           NaN\n",
       "top      Neko      F           NaN\n",
       "freq        2  20439           NaN\n",
       "mean      NaN    NaN    111.956713\n",
       "std       NaN    NaN    743.263871\n",
       "min       NaN    NaN      5.000000\n",
       "25%       NaN    NaN      7.000000\n",
       "50%       NaN    NaN     11.000000\n",
       "75%       NaN    NaN     29.000000\n",
       "max       NaN    NaN  22568.000000"
      ]
     },
     "execution_count": 13,
     "metadata": {},
     "output_type": "execute_result"
    }
   ],
   "source": [
    "df.describe(include = 'all')"
   ]
  },
  {
   "cell_type": "code",
   "execution_count": 14,
   "metadata": {},
   "outputs": [],
   "source": [
    "df_boys = df[df['Gender'] == 'M']\n",
    "df_girls = df[df['Gender'] == 'F']"
   ]
  },
  {
   "cell_type": "code",
   "execution_count": 15,
   "metadata": {},
   "outputs": [
    {
     "data": {
      "text/plain": [
       "Name        32488\n",
       "Gender_g    20439\n",
       "Count_g     20439\n",
       "Gender_b    14606\n",
       "Count_b     14606\n",
       "dtype: int64"
      ]
     },
     "execution_count": 15,
     "metadata": {},
     "output_type": "execute_result"
    }
   ],
   "source": [
    "df_tot = df_girls.merge(df_boys, on='Name', suffixes = ('_g','_b'), how = 'outer')\n",
    "df_tot.count()"
   ]
  },
  {
   "cell_type": "code",
   "execution_count": 16,
   "metadata": {},
   "outputs": [
    {
     "data": {
      "text/html": [
       "<div>\n",
       "<style scoped>\n",
       "    .dataframe tbody tr th:only-of-type {\n",
       "        vertical-align: middle;\n",
       "    }\n",
       "\n",
       "    .dataframe tbody tr th {\n",
       "        vertical-align: top;\n",
       "    }\n",
       "\n",
       "    .dataframe thead th {\n",
       "        text-align: right;\n",
       "    }\n",
       "</style>\n",
       "<table border=\"1\" class=\"dataframe\">\n",
       "  <thead>\n",
       "    <tr style=\"text-align: right;\">\n",
       "      <th></th>\n",
       "      <th>Name</th>\n",
       "      <th>Gender_g</th>\n",
       "      <th>Count_g</th>\n",
       "      <th>Gender_b</th>\n",
       "      <th>Count_b</th>\n",
       "    </tr>\n",
       "  </thead>\n",
       "  <tbody>\n",
       "    <tr>\n",
       "      <td>0</td>\n",
       "      <td>Emma</td>\n",
       "      <td>F</td>\n",
       "      <td>18799.0</td>\n",
       "      <td>M</td>\n",
       "      <td>15.0</td>\n",
       "    </tr>\n",
       "    <tr>\n",
       "      <td>1</td>\n",
       "      <td>Isabella</td>\n",
       "      <td>F</td>\n",
       "      <td>18603.0</td>\n",
       "      <td>M</td>\n",
       "      <td>27.0</td>\n",
       "    </tr>\n",
       "    <tr>\n",
       "      <td>2</td>\n",
       "      <td>Emily</td>\n",
       "      <td>F</td>\n",
       "      <td>17421.0</td>\n",
       "      <td>M</td>\n",
       "      <td>26.0</td>\n",
       "    </tr>\n",
       "    <tr>\n",
       "      <td>3</td>\n",
       "      <td>Olivia</td>\n",
       "      <td>F</td>\n",
       "      <td>17069.0</td>\n",
       "      <td>M</td>\n",
       "      <td>31.0</td>\n",
       "    </tr>\n",
       "    <tr>\n",
       "      <td>4</td>\n",
       "      <td>Ava</td>\n",
       "      <td>F</td>\n",
       "      <td>17027.0</td>\n",
       "      <td>M</td>\n",
       "      <td>16.0</td>\n",
       "    </tr>\n",
       "  </tbody>\n",
       "</table>\n",
       "</div>"
      ],
      "text/plain": [
       "       Name Gender_g  Count_g Gender_b  Count_b\n",
       "0      Emma        F  18799.0        M     15.0\n",
       "1  Isabella        F  18603.0        M     27.0\n",
       "2     Emily        F  17421.0        M     26.0\n",
       "3    Olivia        F  17069.0        M     31.0\n",
       "4       Ava        F  17027.0        M     16.0"
      ]
     },
     "execution_count": 16,
     "metadata": {},
     "output_type": "execute_result"
    }
   ],
   "source": [
    "df_tot.head()"
   ]
  },
  {
   "cell_type": "code",
   "execution_count": 17,
   "metadata": {},
   "outputs": [
    {
     "data": {
      "text/plain": [
       "Name        32488\n",
       "Gender_g    32488\n",
       "Count_g     32488\n",
       "Gender_b    32488\n",
       "Count_b     32488\n",
       "dtype: int64"
      ]
     },
     "execution_count": 17,
     "metadata": {},
     "output_type": "execute_result"
    }
   ],
   "source": [
    "df_tot = df_tot.fillna(0)\n",
    "df_tot.count()"
   ]
  },
  {
   "cell_type": "code",
   "execution_count": 18,
   "metadata": {},
   "outputs": [],
   "source": [
    "df_tot['tot_count'] = df_tot['Count_g'] + df_tot['Count_b']"
   ]
  },
  {
   "cell_type": "code",
   "execution_count": 19,
   "metadata": {},
   "outputs": [
    {
     "data": {
      "text/html": [
       "<div>\n",
       "<style scoped>\n",
       "    .dataframe tbody tr th:only-of-type {\n",
       "        vertical-align: middle;\n",
       "    }\n",
       "\n",
       "    .dataframe tbody tr th {\n",
       "        vertical-align: top;\n",
       "    }\n",
       "\n",
       "    .dataframe thead th {\n",
       "        text-align: right;\n",
       "    }\n",
       "</style>\n",
       "<table border=\"1\" class=\"dataframe\">\n",
       "  <thead>\n",
       "    <tr style=\"text-align: right;\">\n",
       "      <th></th>\n",
       "      <th>Name</th>\n",
       "      <th>Gender_g</th>\n",
       "      <th>Count_g</th>\n",
       "      <th>Gender_b</th>\n",
       "      <th>Count_b</th>\n",
       "      <th>tot_count</th>\n",
       "    </tr>\n",
       "  </thead>\n",
       "  <tbody>\n",
       "    <tr>\n",
       "      <td>0</td>\n",
       "      <td>Emma</td>\n",
       "      <td>F</td>\n",
       "      <td>18799.0</td>\n",
       "      <td>M</td>\n",
       "      <td>15.0</td>\n",
       "      <td>18814.0</td>\n",
       "    </tr>\n",
       "    <tr>\n",
       "      <td>1</td>\n",
       "      <td>Isabella</td>\n",
       "      <td>F</td>\n",
       "      <td>18603.0</td>\n",
       "      <td>M</td>\n",
       "      <td>27.0</td>\n",
       "      <td>18630.0</td>\n",
       "    </tr>\n",
       "    <tr>\n",
       "      <td>2</td>\n",
       "      <td>Emily</td>\n",
       "      <td>F</td>\n",
       "      <td>17421.0</td>\n",
       "      <td>M</td>\n",
       "      <td>26.0</td>\n",
       "      <td>17447.0</td>\n",
       "    </tr>\n",
       "    <tr>\n",
       "      <td>3</td>\n",
       "      <td>Olivia</td>\n",
       "      <td>F</td>\n",
       "      <td>17069.0</td>\n",
       "      <td>M</td>\n",
       "      <td>31.0</td>\n",
       "      <td>17100.0</td>\n",
       "    </tr>\n",
       "    <tr>\n",
       "      <td>4</td>\n",
       "      <td>Ava</td>\n",
       "      <td>F</td>\n",
       "      <td>17027.0</td>\n",
       "      <td>M</td>\n",
       "      <td>16.0</td>\n",
       "      <td>17043.0</td>\n",
       "    </tr>\n",
       "  </tbody>\n",
       "</table>\n",
       "</div>"
      ],
      "text/plain": [
       "       Name Gender_g  Count_g Gender_b  Count_b  tot_count\n",
       "0      Emma        F  18799.0        M     15.0    18814.0\n",
       "1  Isabella        F  18603.0        M     27.0    18630.0\n",
       "2     Emily        F  17421.0        M     26.0    17447.0\n",
       "3    Olivia        F  17069.0        M     31.0    17100.0\n",
       "4       Ava        F  17027.0        M     16.0    17043.0"
      ]
     },
     "execution_count": 19,
     "metadata": {},
     "output_type": "execute_result"
    }
   ],
   "source": [
    "df_tot.head()"
   ]
  },
  {
   "cell_type": "code",
   "execution_count": 20,
   "metadata": {},
   "outputs": [],
   "source": [
    "df_tot['gender_frac'] = df_tot['Count_g']/df_tot['tot_count']"
   ]
  },
  {
   "cell_type": "code",
   "execution_count": 21,
   "metadata": {},
   "outputs": [
    {
     "data": {
      "text/html": [
       "<div>\n",
       "<style scoped>\n",
       "    .dataframe tbody tr th:only-of-type {\n",
       "        vertical-align: middle;\n",
       "    }\n",
       "\n",
       "    .dataframe tbody tr th {\n",
       "        vertical-align: top;\n",
       "    }\n",
       "\n",
       "    .dataframe thead th {\n",
       "        text-align: right;\n",
       "    }\n",
       "</style>\n",
       "<table border=\"1\" class=\"dataframe\">\n",
       "  <thead>\n",
       "    <tr style=\"text-align: right;\">\n",
       "      <th></th>\n",
       "      <th>Name</th>\n",
       "      <th>Gender_g</th>\n",
       "      <th>Count_g</th>\n",
       "      <th>Gender_b</th>\n",
       "      <th>Count_b</th>\n",
       "      <th>tot_count</th>\n",
       "      <th>gender_frac</th>\n",
       "    </tr>\n",
       "  </thead>\n",
       "  <tbody>\n",
       "    <tr>\n",
       "      <td>0</td>\n",
       "      <td>Emma</td>\n",
       "      <td>F</td>\n",
       "      <td>18799.0</td>\n",
       "      <td>M</td>\n",
       "      <td>15.0</td>\n",
       "      <td>18814.0</td>\n",
       "      <td>0.999203</td>\n",
       "    </tr>\n",
       "    <tr>\n",
       "      <td>1</td>\n",
       "      <td>Isabella</td>\n",
       "      <td>F</td>\n",
       "      <td>18603.0</td>\n",
       "      <td>M</td>\n",
       "      <td>27.0</td>\n",
       "      <td>18630.0</td>\n",
       "      <td>0.998551</td>\n",
       "    </tr>\n",
       "    <tr>\n",
       "      <td>2</td>\n",
       "      <td>Emily</td>\n",
       "      <td>F</td>\n",
       "      <td>17421.0</td>\n",
       "      <td>M</td>\n",
       "      <td>26.0</td>\n",
       "      <td>17447.0</td>\n",
       "      <td>0.998510</td>\n",
       "    </tr>\n",
       "    <tr>\n",
       "      <td>3</td>\n",
       "      <td>Olivia</td>\n",
       "      <td>F</td>\n",
       "      <td>17069.0</td>\n",
       "      <td>M</td>\n",
       "      <td>31.0</td>\n",
       "      <td>17100.0</td>\n",
       "      <td>0.998187</td>\n",
       "    </tr>\n",
       "    <tr>\n",
       "      <td>4</td>\n",
       "      <td>Ava</td>\n",
       "      <td>F</td>\n",
       "      <td>17027.0</td>\n",
       "      <td>M</td>\n",
       "      <td>16.0</td>\n",
       "      <td>17043.0</td>\n",
       "      <td>0.999061</td>\n",
       "    </tr>\n",
       "  </tbody>\n",
       "</table>\n",
       "</div>"
      ],
      "text/plain": [
       "       Name Gender_g  Count_g Gender_b  Count_b  tot_count  gender_frac\n",
       "0      Emma        F  18799.0        M     15.0    18814.0     0.999203\n",
       "1  Isabella        F  18603.0        M     27.0    18630.0     0.998551\n",
       "2     Emily        F  17421.0        M     26.0    17447.0     0.998510\n",
       "3    Olivia        F  17069.0        M     31.0    17100.0     0.998187\n",
       "4       Ava        F  17027.0        M     16.0    17043.0     0.999061"
      ]
     },
     "execution_count": 21,
     "metadata": {},
     "output_type": "execute_result"
    }
   ],
   "source": [
    "df_tot.head()"
   ]
  },
  {
   "cell_type": "code",
   "execution_count": 22,
   "metadata": {},
   "outputs": [
    {
     "data": {
      "text/html": [
       "<div>\n",
       "<style scoped>\n",
       "    .dataframe tbody tr th:only-of-type {\n",
       "        vertical-align: middle;\n",
       "    }\n",
       "\n",
       "    .dataframe tbody tr th {\n",
       "        vertical-align: top;\n",
       "    }\n",
       "\n",
       "    .dataframe thead th {\n",
       "        text-align: right;\n",
       "    }\n",
       "</style>\n",
       "<table border=\"1\" class=\"dataframe\">\n",
       "  <thead>\n",
       "    <tr style=\"text-align: right;\">\n",
       "      <th></th>\n",
       "      <th>Name</th>\n",
       "      <th>gender_frac</th>\n",
       "    </tr>\n",
       "  </thead>\n",
       "  <tbody>\n",
       "    <tr>\n",
       "      <td>0</td>\n",
       "      <td>Emma</td>\n",
       "      <td>0.999203</td>\n",
       "    </tr>\n",
       "    <tr>\n",
       "      <td>1</td>\n",
       "      <td>Isabella</td>\n",
       "      <td>0.998551</td>\n",
       "    </tr>\n",
       "    <tr>\n",
       "      <td>2</td>\n",
       "      <td>Emily</td>\n",
       "      <td>0.998510</td>\n",
       "    </tr>\n",
       "    <tr>\n",
       "      <td>3</td>\n",
       "      <td>Olivia</td>\n",
       "      <td>0.998187</td>\n",
       "    </tr>\n",
       "    <tr>\n",
       "      <td>4</td>\n",
       "      <td>Ava</td>\n",
       "      <td>0.999061</td>\n",
       "    </tr>\n",
       "  </tbody>\n",
       "</table>\n",
       "</div>"
      ],
      "text/plain": [
       "       Name  gender_frac\n",
       "0      Emma     0.999203\n",
       "1  Isabella     0.998551\n",
       "2     Emily     0.998510\n",
       "3    Olivia     0.998187\n",
       "4       Ava     0.999061"
      ]
     },
     "execution_count": 22,
     "metadata": {},
     "output_type": "execute_result"
    }
   ],
   "source": [
    "df_tot = df_tot.drop(['Gender_g', 'Count_g', 'Gender_b', 'Count_b', 'tot_count'], axis = 1)\n",
    "df_tot.head()"
   ]
  },
  {
   "cell_type": "code",
   "execution_count": 23,
   "metadata": {},
   "outputs": [
    {
     "data": {
      "text/plain": [
       "Name           32488\n",
       "gender_frac    32488\n",
       "dtype: int64"
      ]
     },
     "execution_count": 23,
     "metadata": {},
     "output_type": "execute_result"
    }
   ],
   "source": [
    "df_tot.count()"
   ]
  },
  {
   "cell_type": "code",
   "execution_count": 24,
   "metadata": {},
   "outputs": [],
   "source": [
    "df_tot['len'] = df_tot['Name'].apply(len)"
   ]
  },
  {
   "cell_type": "code",
   "execution_count": 25,
   "metadata": {},
   "outputs": [
    {
     "data": {
      "text/html": [
       "<div>\n",
       "<style scoped>\n",
       "    .dataframe tbody tr th:only-of-type {\n",
       "        vertical-align: middle;\n",
       "    }\n",
       "\n",
       "    .dataframe tbody tr th {\n",
       "        vertical-align: top;\n",
       "    }\n",
       "\n",
       "    .dataframe thead th {\n",
       "        text-align: right;\n",
       "    }\n",
       "</style>\n",
       "<table border=\"1\" class=\"dataframe\">\n",
       "  <thead>\n",
       "    <tr style=\"text-align: right;\">\n",
       "      <th></th>\n",
       "      <th>Name</th>\n",
       "      <th>gender_frac</th>\n",
       "      <th>len</th>\n",
       "    </tr>\n",
       "  </thead>\n",
       "  <tbody>\n",
       "    <tr>\n",
       "      <td>0</td>\n",
       "      <td>Emma</td>\n",
       "      <td>0.999203</td>\n",
       "      <td>4</td>\n",
       "    </tr>\n",
       "    <tr>\n",
       "      <td>1</td>\n",
       "      <td>Isabella</td>\n",
       "      <td>0.998551</td>\n",
       "      <td>8</td>\n",
       "    </tr>\n",
       "    <tr>\n",
       "      <td>2</td>\n",
       "      <td>Emily</td>\n",
       "      <td>0.998510</td>\n",
       "      <td>5</td>\n",
       "    </tr>\n",
       "    <tr>\n",
       "      <td>3</td>\n",
       "      <td>Olivia</td>\n",
       "      <td>0.998187</td>\n",
       "      <td>6</td>\n",
       "    </tr>\n",
       "    <tr>\n",
       "      <td>4</td>\n",
       "      <td>Ava</td>\n",
       "      <td>0.999061</td>\n",
       "      <td>3</td>\n",
       "    </tr>\n",
       "  </tbody>\n",
       "</table>\n",
       "</div>"
      ],
      "text/plain": [
       "       Name  gender_frac  len\n",
       "0      Emma     0.999203    4\n",
       "1  Isabella     0.998551    8\n",
       "2     Emily     0.998510    5\n",
       "3    Olivia     0.998187    6\n",
       "4       Ava     0.999061    3"
      ]
     },
     "execution_count": 25,
     "metadata": {},
     "output_type": "execute_result"
    }
   ],
   "source": [
    "df_tot.head()"
   ]
  },
  {
   "cell_type": "code",
   "execution_count": 26,
   "metadata": {},
   "outputs": [],
   "source": [
    "df_tot = df_tot[df_tot['len']>2]"
   ]
  },
  {
   "cell_type": "code",
   "execution_count": 27,
   "metadata": {},
   "outputs": [
    {
     "data": {
      "text/plain": [
       "Name           32436\n",
       "gender_frac    32436\n",
       "len            32436\n",
       "dtype: int64"
      ]
     },
     "execution_count": 27,
     "metadata": {},
     "output_type": "execute_result"
    }
   ],
   "source": [
    "df_tot.count()"
   ]
  },
  {
   "cell_type": "code",
   "execution_count": 28,
   "metadata": {},
   "outputs": [],
   "source": [
    "df_tot = df_tot.drop('len' ,axis = 1)"
   ]
  },
  {
   "cell_type": "code",
   "execution_count": 29,
   "metadata": {},
   "outputs": [
    {
     "data": {
      "text/html": [
       "<div>\n",
       "<style scoped>\n",
       "    .dataframe tbody tr th:only-of-type {\n",
       "        vertical-align: middle;\n",
       "    }\n",
       "\n",
       "    .dataframe tbody tr th {\n",
       "        vertical-align: top;\n",
       "    }\n",
       "\n",
       "    .dataframe thead th {\n",
       "        text-align: right;\n",
       "    }\n",
       "</style>\n",
       "<table border=\"1\" class=\"dataframe\">\n",
       "  <thead>\n",
       "    <tr style=\"text-align: right;\">\n",
       "      <th></th>\n",
       "      <th>Name</th>\n",
       "      <th>gender_frac</th>\n",
       "    </tr>\n",
       "  </thead>\n",
       "  <tbody>\n",
       "    <tr>\n",
       "      <td>0</td>\n",
       "      <td>Emma</td>\n",
       "      <td>0.999203</td>\n",
       "    </tr>\n",
       "    <tr>\n",
       "      <td>1</td>\n",
       "      <td>Isabella</td>\n",
       "      <td>0.998551</td>\n",
       "    </tr>\n",
       "    <tr>\n",
       "      <td>2</td>\n",
       "      <td>Emily</td>\n",
       "      <td>0.998510</td>\n",
       "    </tr>\n",
       "    <tr>\n",
       "      <td>3</td>\n",
       "      <td>Olivia</td>\n",
       "      <td>0.998187</td>\n",
       "    </tr>\n",
       "    <tr>\n",
       "      <td>4</td>\n",
       "      <td>Ava</td>\n",
       "      <td>0.999061</td>\n",
       "    </tr>\n",
       "  </tbody>\n",
       "</table>\n",
       "</div>"
      ],
      "text/plain": [
       "       Name  gender_frac\n",
       "0      Emma     0.999203\n",
       "1  Isabella     0.998551\n",
       "2     Emily     0.998510\n",
       "3    Olivia     0.998187\n",
       "4       Ava     0.999061"
      ]
     },
     "execution_count": 29,
     "metadata": {},
     "output_type": "execute_result"
    }
   ],
   "source": [
    "df_tot.head()"
   ]
  },
  {
   "cell_type": "code",
   "execution_count": 30,
   "metadata": {},
   "outputs": [],
   "source": [
    "df_tot.to_csv('cleaned_names.csv', index = False)"
   ]
  },
  {
   "cell_type": "code",
   "execution_count": null,
   "metadata": {},
   "outputs": [],
   "source": []
  }
 ],
 "metadata": {
  "kernelspec": {
   "display_name": "Python 3",
   "language": "python",
   "name": "python3"
  },
  "language_info": {
   "codemirror_mode": {
    "name": "ipython",
    "version": 3
   },
   "file_extension": ".py",
   "mimetype": "text/x-python",
   "name": "python",
   "nbconvert_exporter": "python",
   "pygments_lexer": "ipython3",
   "version": "3.7.4"
  }
 },
 "nbformat": 4,
 "nbformat_minor": 2
}
